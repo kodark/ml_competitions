{
 "nbformat": 4,
 "nbformat_minor": 0,
 "metadata": {
  "kernelspec": {
   "display_name": "Python 3",
   "language": "python",
   "name": "python3"
  },
  "language_info": {
   "codemirror_mode": {
    "name": "ipython",
    "version": 3
   },
   "file_extension": ".py",
   "mimetype": "text/x-python",
   "name": "python",
   "nbconvert_exporter": "python",
   "pygments_lexer": "ipython3",
   "version": "3.7.3"
  },
  "colab": {
   "name": "logreg.ipynb",
   "provenance": [],
   "collapsed_sections": [],
   "machine_shape": "hm"
  },
  "pycharm": {
   "stem_cell": {
    "cell_type": "raw",
    "source": [],
    "metadata": {
     "collapsed": false
    }
   }
  }
 },
 "cells": [
  {
   "cell_type": "code",
   "metadata": {
    "id": "aTRVojFsi5ip",
    "colab_type": "code",
    "colab": {},
    "pycharm": {
     "is_executing": false
    }
   },
   "source": [
    "import numpy as np\n",
    "import pandas as pd\n",
    "from sklearn.decomposition import TruncatedSVD\n",
    "from sklearn.preprocessing import OneHotEncoder\n",
    "from sklearn.compose import ColumnTransformer\n",
    "import lightgbm as lgb\n",
    "%matplotlib inline"
   ],
   "execution_count": 1,
   "outputs": []
  },
  {
   "cell_type": "code",
   "metadata": {
    "id": "t6zMsy6Ji5i9",
    "colab_type": "code",
    "colab": {},
    "pycharm": {
     "is_executing": false
    }
   },
   "source": [
    "TRAIN_PATH = 'train/'\n",
    "TEST_PATH = 'test/'"
   ],
   "execution_count": 2,
   "outputs": []
  },
  {
   "cell_type": "code",
   "metadata": {
    "id": "-LjWICEbi5jP",
    "colab_type": "code",
    "colab": {},
    "pycharm": {
     "is_executing": false
    }
   },
   "source": [
    "X1 = pd.read_csv(TRAIN_PATH + 'X1.csv')\n",
    "X2 = pd.read_csv(TRAIN_PATH + 'X2.csv')\n",
    "\n",
    "Y = pd.read_csv(TRAIN_PATH + 'Y.csv')\n",
    "\n",
    "X1.set_index('id', inplace=True)\n",
    "Y.set_index('id', inplace=True)\n",
    "\n",
    "Y.columns = ['Y' + s if s != 'id' else 'id' for s in Y.columns]\n",
    "\n",
    "\n",
    "X1_test = pd.read_csv(TEST_PATH + 'X1.csv')\n",
    "X1_test.set_index('id', inplace=True)\n",
    "X2_test = pd.read_csv(TEST_PATH + 'X2.csv')"
   ],
   "execution_count": 3,
   "outputs": []
  },
  {
   "cell_type": "code",
   "metadata": {
    "id": "wDT8el-Ui5jb",
    "colab_type": "code",
    "colab": {},
    "pycharm": {
     "is_executing": false
    }
   },
   "source": [
    "def transform_x2(X2, svd=None):\n",
    "    rows, row_pos = np.unique(X2.iloc[:, 0], return_inverse=True)\n",
    "    cols, col_pos = np.unique(X2.iloc[:, 1], return_inverse=True)\n",
    "    sparse_matrix = np.zeros((len(rows), len(cols))) #, dtype=np.float32)\n",
    "\n",
    "    sparse_matrix[row_pos, col_pos] = 1\n",
    "\n",
    "    cols_ = sparse_matrix.sum(axis=0)\n",
    "    rows_ = sparse_matrix.sum(axis=1)\n",
    "\n",
    "    minimum_users_per_group = 10\n",
    "    selected_cols = cols_ >= minimum_users_per_group\n",
    "    trimmed_sparse_matrix = sparse_matrix[:, selected_cols]\n",
    "\n",
    "    if svd is None:\n",
    "        svd = TruncatedSVD(n_components=50)\n",
    "        svd.fit(trimmed_sparse_matrix)\n",
    "\n",
    "    components = pd.DataFrame(svd.transform(trimmed_sparse_matrix))\n",
    "    components['id'] = rows\n",
    "    X2 = components\n",
    "    return X2, svd\n",
    "\n",
    "\n",
    "X2_all = X2.append(X2_test)\n",
    "X2_all, svd = transform_x2(X2_all)"
   ],
   "execution_count": 4,
   "outputs": []
  },
  {
   "cell_type": "code",
   "metadata": {
    "id": "bCFZqYkRi5jo",
    "colab_type": "code",
    "colab": {},
    "pycharm": {
     "is_executing": false
    }
   },
   "source": [
    "X2 = X2_all[X2_all.id.isin(X1.index)]\n",
    "X2_test = X2_all[X2_all.id.isin(X1_test.index)]\n",
    "\n",
    "X2.set_index('id', inplace=True)\n",
    "X2_test.set_index('id', inplace=True)"
   ],
   "execution_count": 5,
   "outputs": []
  },
  {
   "cell_type": "code",
   "metadata": {
    "id": "hi4rcLuxnDn5",
    "colab_type": "code",
    "colab": {},
    "pycharm": {
     "is_executing": false
    }
   },
   "source": [
    "X_train = X1.copy()\n",
    "X_train = X_train.merge(X2, on='id', suffixes=('', '_y')).merge(Y, on='id')\n",
    "\n",
    "X_test = X1_test.copy().merge(X2_test,  on='id', suffixes=('', '_y'))\n",
    "\n",
    "id_ = np.array(X_train.index)\n",
    "id_test = np.array(X_test.index)\n",
    "y1 = X_train.pop('Y1')\n",
    "y2 = X_train.pop('Y2')\n",
    "y3 = X_train.pop('Y3')\n",
    "y4 = X_train.pop('Y4')\n",
    "y5 = X_train.pop('Y5')"
   ],
   "execution_count": 6,
   "outputs": []
  },
  {
   "cell_type": "code",
   "metadata": {
    "id": "yKKCfMlUnDrz",
    "colab_type": "code",
    "colab": {},
    "pycharm": {
     "is_executing": false
    }
   },
   "source": [
    "def modifyX(X, qCount):\n",
    "    ct = ColumnTransformer([(\"ohe\", OneHotEncoder(sparse=False), ['6_y', '8_y'])])\n",
    "    for col in ['6', '8']:\n",
    "        X = X.merge(pd.qcut(X[col], qCount, duplicates='drop', labels=False), on='id')\n",
    "    X = X.merge(pd.DataFrame(ct.fit_transform(X), index=X.index), on='id')\n",
    "    \n",
    "    for col in ['2', '3']:\n",
    "        X = X.merge((X[col] == 0).astype('int32'), on='id')\n",
    "    \n",
    "    for col in ['5', '7', '9']:\n",
    "        X = X.merge((X[col] == 0).astype('int32'), on='id')\n",
    "    \n",
    "    return X"
   ],
   "execution_count": 7,
   "outputs": []
  },
  {
   "cell_type": "code",
   "metadata": {
    "id": "VeIsHCtInDyg",
    "colab_type": "code",
    "outputId": "8a62c3d5-4548-40a1-dbac-a1fc76ae73f0",
    "colab": {
     "base_uri": "https://localhost:8080/",
     "height": 124
    },
    "pycharm": {
     "is_executing": false
    }
   },
   "source": [
    "X_all = X_train.append(X_test)\n",
    "X_all = modifyX(X_all, 5)\n",
    "X_train = X_all[X_all.index.isin(X_train.index)]\n",
    "X_test = X_all[X_all.index.isin(X_test.index)]\n",
    "X_test.shape"
   ],
   "execution_count": 8,
   "outputs": [
    {
     "name": "stderr",
     "text": [
      "E:\\Programs\\Anaconda\\lib\\site-packages\\sklearn\\preprocessing\\_encoders.py:415: FutureWarning: The handling of integer data will change in version 0.22. Currently, the categories are determined based on the range [0, max(values)], while in the future they will be determined based on the unique values.\n",
      "If you want the future behaviour and silence this warning, you can specify \"categories='auto'\".\n",
      "In case you used a LabelEncoder before this OneHotEncoder to convert the categories to integers, then you can now use the OneHotEncoder directly.\n",
      "  warnings.warn(msg, FutureWarning)\n"
     ],
     "output_type": "stream"
    },
    {
     "data": {
      "text/plain": "(4058, 92)"
     },
     "metadata": {},
     "output_type": "execute_result",
     "execution_count": 8
    }
   ]
  },
  {
   "cell_type": "code",
   "metadata": {
    "id": "ACDm-zGznD2I",
    "colab_type": "code",
    "colab": {},
    "pycharm": {
     "is_executing": false
    }
   },
   "source": [
    "a1 = 0.0\n",
    "for t in range(10):\n",
    "    model1 = lgb.LGBMClassifier(learning_rate=0.05, num_leaves=2,\n",
    "                                n_estimators=309,\n",
    "                                colsample_bytree=0.75, subsample=0.75, random_state=t)\n",
    "    model1.fit(X_train, y1)\n",
    "    a = model1.predict_proba(X_test)[:,1]\n",
    "    # print (a)\n",
    "    a1 += a\n",
    "a1 = a1 / 10"
   ],
   "execution_count": 9,
   "outputs": []
  },
  {
   "cell_type": "code",
   "metadata": {
    "id": "WPZO-bmQnDvu",
    "colab_type": "code",
    "colab": {},
    "pycharm": {
     "is_executing": false
    }
   },
   "source": [
    "a2 = 0.0\n",
    "for t in range(10):\n",
    "    model2 = lgb.LGBMClassifier(learning_rate=0.05, num_leaves=2,\n",
    "                          n_estimators=284,\n",
    "                          colsample_bytree=0.75, subsample=0.75, random_state=t)\n",
    "    model2.fit(X_train, y2)\n",
    "    a = model2.predict_proba(X_test)[:,1]\n",
    "    a2 += a\n",
    "a2 = a2 / 10"
   ],
   "execution_count": 10,
   "outputs": []
  },
  {
   "cell_type": "code",
   "metadata": {
    "id": "k0Ee5yoTnDka",
    "colab_type": "code",
    "colab": {},
    "pycharm": {
     "is_executing": false
    }
   },
   "source": [
    "a3 = 0.0\n",
    "for t in range(10):\n",
    "    model3 = lgb.LGBMClassifier(learning_rate=0.05, num_leaves=3,\n",
    "                          n_estimators=6,\n",
    "                          colsample_bytree=0.75, subsample=0.75, random_state=t)\n",
    "    model3.fit(X_train, y3)\n",
    "    a = model3.predict_proba(X_test)[:,1]\n",
    "    a3 += a\n",
    "a3 = a3 / 10"
   ],
   "execution_count": 11,
   "outputs": []
  },
  {
   "cell_type": "code",
   "metadata": {
    "id": "NE3sL_4Wn2OY",
    "colab_type": "code",
    "colab": {},
    "pycharm": {
     "is_executing": false
    }
   },
   "source": [
    "a4 = 0.0\n",
    "for t in range(10):\n",
    "    model4 = lgb.LGBMClassifier(learning_rate=0.05, num_leaves=7,\n",
    "                          n_estimators=10,\n",
    "                          colsample_bytree=0.75, subsample=0.75, random_state=t)\n",
    "    model4.fit(X_train, y4)\n",
    "    a = model4.predict_proba(X_test)[:,1]\n",
    "    a4 += a\n",
    "a4 = a4 / 10"
   ],
   "execution_count": 12,
   "outputs": []
  },
  {
   "cell_type": "code",
   "metadata": {
    "id": "RzTG2Mydn2VA",
    "colab_type": "code",
    "colab": {},
    "pycharm": {
     "is_executing": false
    }
   },
   "source": [
    "a5 = 0.0\n",
    "for t in range(10):\n",
    "    model5 = lgb.LGBMClassifier(learning_rate=0.05, num_leaves=9,\n",
    "                          n_estimators=49,\n",
    "                          colsample_bytree=0.75, subsample=0.75, random_state=t)\n",
    "    model5.fit(X_train, y5)\n",
    "    a = model5.predict_proba(X_test)[:,1]\n",
    "    #print (a)\n",
    "    a5 += a\n",
    "a5 = a5 / 10"
   ],
   "execution_count": 13,
   "outputs": []
  },
  {
   "cell_type": "code",
   "metadata": {
    "id": "W2DASeTan2Yj",
    "colab_type": "code",
    "outputId": "f08c062b-8c57-45ab-a688-2c38a5161ed3",
    "colab": {
     "base_uri": "https://localhost:8080/",
     "height": 206
    },
    "pycharm": {
     "is_executing": false
    }
   },
   "source": [
    "df = pd.DataFrame({'id': X_test.index,\n",
    "             '1': a1,\n",
    "             '2': a2,\n",
    "             '3': a3,\n",
    "             '4': a4,\n",
    "             '5': a5})\n",
    "df.to_csv('lbm_sol.csv', index=False)\n",
    "df.head()"
   ],
   "execution_count": 14,
   "outputs": [
    {
     "data": {
      "text/plain": "   id         1         2         3         4         5\n0   0  0.372175  0.338914  0.309348  0.292788  0.448865\n1   1  0.299693  0.266502  0.308948  0.293758  0.640844\n2   2  0.415403  0.402549  0.309348  0.286239  0.517462\n3   4  0.225311  0.252785  0.309348  0.299364  0.537780\n4   7  0.267182  0.186897  0.365074  0.370087  0.336876",
      "text/html": "<div>\n<style scoped>\n    .dataframe tbody tr th:only-of-type {\n        vertical-align: middle;\n    }\n\n    .dataframe tbody tr th {\n        vertical-align: top;\n    }\n\n    .dataframe thead th {\n        text-align: right;\n    }\n</style>\n<table border=\"1\" class=\"dataframe\">\n  <thead>\n    <tr style=\"text-align: right;\">\n      <th></th>\n      <th>id</th>\n      <th>1</th>\n      <th>2</th>\n      <th>3</th>\n      <th>4</th>\n      <th>5</th>\n    </tr>\n  </thead>\n  <tbody>\n    <tr>\n      <td>0</td>\n      <td>0</td>\n      <td>0.372175</td>\n      <td>0.338914</td>\n      <td>0.309348</td>\n      <td>0.292788</td>\n      <td>0.448865</td>\n    </tr>\n    <tr>\n      <td>1</td>\n      <td>1</td>\n      <td>0.299693</td>\n      <td>0.266502</td>\n      <td>0.308948</td>\n      <td>0.293758</td>\n      <td>0.640844</td>\n    </tr>\n    <tr>\n      <td>2</td>\n      <td>2</td>\n      <td>0.415403</td>\n      <td>0.402549</td>\n      <td>0.309348</td>\n      <td>0.286239</td>\n      <td>0.517462</td>\n    </tr>\n    <tr>\n      <td>3</td>\n      <td>4</td>\n      <td>0.225311</td>\n      <td>0.252785</td>\n      <td>0.309348</td>\n      <td>0.299364</td>\n      <td>0.537780</td>\n    </tr>\n    <tr>\n      <td>4</td>\n      <td>7</td>\n      <td>0.267182</td>\n      <td>0.186897</td>\n      <td>0.365074</td>\n      <td>0.370087</td>\n      <td>0.336876</td>\n    </tr>\n  </tbody>\n</table>\n</div>"
     },
     "metadata": {},
     "output_type": "execute_result",
     "execution_count": 14
    }
   ]
  },
  {
   "cell_type": "code",
   "metadata": {
    "id": "iol88Etfpz_C",
    "colab_type": "code",
    "colab": {},
    "pycharm": {
     "is_executing": false
    }
   },
   "source": [
    ""
   ],
   "execution_count": 14,
   "outputs": []
  }
 ]
}