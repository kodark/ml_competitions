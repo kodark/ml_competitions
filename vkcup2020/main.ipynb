{
 "cells": [
  {
   "cell_type": "code",
   "source": [
    "import pandas as pd\n",
    "import numpy as np\n",
    "import re\n",
    "\n",
    "from sklearn.base import BaseEstimator\n",
    "from sklearn.base import TransformerMixin\n",
    "from sklearn.model_selection import StratifiedKFold\n",
    "from sklearn.linear_model import LogisticRegression\n",
    "from sklearn.feature_extraction.text import TfidfVectorizer\n",
    "from sklearn.pipeline import Pipeline\n",
    "from sklearn.model_selection import GridSearchCV\n",
    "import lightgbm as lgb\n",
    "from nltk.stem.snowball import SnowballStemmer \n",
    "from sklearn.compose import ColumnTransformer\n",
    "import nltk"
   ],
   "metadata": {
    "collapsed": false,
    "pycharm": {
     "name": "#%% \n",
     "is_executing": false
    }
   },
   "execution_count": 1,
   "outputs": []
  },
  {
   "cell_type": "code",
   "execution_count": 2,
   "outputs": [
    {
     "name": "stderr",
     "text": [
      "[nltk_data] Downloading package punkt to\n",
      "[nltk_data]     E:\\Users\\admin\\AppData\\Roaming\\nltk_data...\n",
      "[nltk_data]   Package punkt is already up-to-date!\n",
      "[nltk_data] Downloading package stopwords to\n",
      "[nltk_data]     E:\\Users\\admin\\AppData\\Roaming\\nltk_data...\n",
      "[nltk_data]   Package stopwords is already up-to-date!\n"
     ],
     "output_type": "stream"
    },
    {
     "data": {
      "text/plain": "True"
     },
     "metadata": {},
     "output_type": "execute_result",
     "execution_count": 2
    }
   ],
   "source": [
    "nltk.download('punkt')\n",
    "nltk.download('stopwords')"
   ],
   "metadata": {
    "collapsed": false,
    "pycharm": {
     "name": "#%%\n",
     "is_executing": false
    }
   }
  },
  {
   "cell_type": "code",
   "execution_count": 3,
   "outputs": [],
   "source": [
    "data = pd.read_csv('data/data.csv', delimiter=';', index_col='ID')\n",
    "train = pd.read_csv('data/train.csv', delimiter=';')\n",
    "test = pd.read_csv('data/test.csv', delimiter=';')"
   ],
   "metadata": {
    "collapsed": false,
    "pycharm": {
     "name": "#%%\n",
     "is_executing": false
    }
   }
  },
  {
   "cell_type": "code",
   "execution_count": 4,
   "outputs": [
    {
     "name": "stdout",
     "text": [
      "Количество вопросов 41087. Из них в обучающей выборке 30000 , в тестовой -- 11087\n"
     ],
     "output_type": "stream"
    }
   ],
   "source": [
    "print(f\"Количество вопросов {data.shape[0]}. Из них в обучающей выборке {train.shape[0]} ,\"\n",
    "      f\" в тестовой -- {test.shape[0]}\")"
   ],
   "metadata": {
    "collapsed": false,
    "pycharm": {
     "name": "#%%\n",
     "is_executing": false
    }
   }
  },
  {
   "cell_type": "code",
   "execution_count": 5,
   "outputs": [],
   "source": [
    "X_train = data.loc[train.ID]\n",
    "y_train = train.set_index('ID')\n",
    "X_test = data.loc[test.ID]"
   ],
   "metadata": {
    "collapsed": false,
    "pycharm": {
     "name": "#%%\n",
     "is_executing": false
    }
   }
  },
  {
   "cell_type": "code",
   "execution_count": 6,
   "outputs": [],
   "source": [
    "def random_pick_n(iterable, n, random_seed=43):\n",
    "    np.random.seed(random_seed)\n",
    "    if type(iterable) is pd.DataFrame:\n",
    "        ids = np.random.choice(len(iterable), n, replace=False)\n",
    "        return iterable.iloc[ids]\n",
    "    if type(iterable) is np.ndarray and len(iterable.shape) > 1:\n",
    "        return 0\n",
    "    return np.random.choice(iterable, n, replace=False)"
   ],
   "metadata": {
    "collapsed": false,
    "pycharm": {
     "name": "#%%\n",
     "is_executing": false
    }
   }
  },
  {
   "cell_type": "code",
   "source": [
    "for s in random_pick_n(X_train[y_train.Answer == 0], 20, random_seed=137).values:\n",
    "    print(s)"
   ],
   "metadata": {
    "collapsed": false,
    "pycharm": {
     "name": "#%% \n",
     "is_executing": false
    }
   },
   "execution_count": 7,
   "outputs": [
    {
     "name": "stdout",
     "text": [
      "['Что из этого не является морем ВАРИАНТЫ ОТВЕТА КАСПИСКОЕ ЧЁРНОЕ БЕРИНГОВО']\n",
      "['В музее какого писателя , есть зал, в котором хранятся 74 топора']\n",
      "['Какая телепередача являлась самой популярной на 2015']\n",
      "['Сколько кампаний  Avon проходит за год']\n",
      "['У кого из этих футболистов больше всего золотых мячей?']\n",
      "['в каком из этих городов проживает меньше всего людей?']\n",
      "['Какой из этих городов, НЕ находится в Германии?']\n",
      "['Мой друг вывел деньги на виртуальную карту QIWI 2O9 рублей,они таки не пришли,что делать?Номер карты 4890 4944 9922 4699']\n",
      "['Высота небоскреба «Бурж Халифа»']\n",
      "['Какой из названных автомобилей самый быстрый?']\n",
      "['С помощью какого апаората можно оставаться на связи с друзьями и близкими?']\n",
      "['Откуда родом Мухаммед Али']\n",
      "['В каком году появилось первое мороженое?']\n",
      "['Сколько полей-квадратиков на шахматной доске?']\n",
      "['В каком году умер Александр 2?']\n",
      "['Сколько раз старик из сказки А. С. Пушкина вызывал Золотую рыбку?']\n",
      "['Как звали жениха Полли Купер в сериале Ривердейл?']\n",
      "['Негласным символом какой столицы является старинный жёлтый трамвай?']\n",
      "['Сколько лет длилась столетняя война?']\n",
      "['Что изображено на гербе города Челябинска?']\n"
     ],
     "output_type": "stream"
    }
   ]
  },
  {
   "cell_type": "code",
   "execution_count": 8,
   "outputs": [
    {
     "name": "stdout",
     "text": [
      "['Что такое «рамбутан»?']\n",
      "['В каком году была битва за Брестскую крепость?']\n",
      "['Как звучало любимое заклинание героя мультфильма «Чудовище»?']\n",
      "['Кто стал победителем в беге на 100 метров на Олимпийских играх 1936 года в Берлине?']\n",
      "['Что изучает ботаника?']\n",
      "['Кто считается «отцом теории информации»?']\n",
      "['Когда родилась Алла Пугачёва?']\n",
      "['Когда Западная Римская империя прекратила своё существование?']\n",
      "['Какая  столица у Намибии?']\n",
      "['В какой стране носят шапки из своих волос?']\n",
      "['Кто самый первый получил Нобелевскую премию по физиологии или медицине?']\n",
      "['Как зовут создателя паровой машины?']\n",
      "['Какой танк участвовал в Первой мировой войне?']\n",
      "['Какой язык программирования существует?']\n",
      "['Сколько просветов было на погонах есаула?']\n",
      "['Какой футбольный клуб НЕ выигрывал Лигу Европы УЕФА?']\n",
      "['Сколько протонов содержится в ядре одного атома криптона?']\n",
      "['Какого города НЕТ в Швейцарии?']\n",
      "['Кто из НЕ относится к Отцам-основателям США?']\n",
      "['Кто сменил Ф. Э. Дзержинского после его смерти на посту главы органов госбезопасности?']\n"
     ],
     "output_type": "stream"
    }
   ],
   "source": [
    "for s in random_pick_n(X_train[y_train.Answer == 1], 20, random_seed=137).values:\n",
    "    print(s)"
   ],
   "metadata": {
    "collapsed": false,
    "pycharm": {
     "name": "#%%\n",
     "is_executing": false
    }
   }
  },
  {
   "cell_type": "code",
   "execution_count": 9,
   "outputs": [],
   "source": [
    "class CustomTfIdf(BaseEstimator, TransformerMixin):\n",
    "    def __init__(self, min_df=1, max_df=1.0, preprocessor=None, analyzer='word', ngram_range=(1, 1)):\n",
    "        self.min_df = min_df\n",
    "        self.max_df = max_df\n",
    "        self.preprocessor = preprocessor\n",
    "        self.analyzer = analyzer\n",
    "        self.ngram_range = ngram_range\n",
    "    \n",
    "    def fit(self, X, y=None):\n",
    "        if X.shape[1] > 1:\n",
    "            print(f\"Внимание! X.shape = {X.shape} in CustomTfIdf.fit\")\n",
    "        self.vect = TfidfVectorizer(token_pattern=r'(?u)\\b[А-я]+\\b', min_df=self.min_df,\n",
    "                                    max_df=self.max_df, preprocessor=self.preprocessor, norm=False,\n",
    "                                    analyzer=self.analyzer, ngram_range=self.ngram_range)\n",
    "        self.vect.fit(X.iloc[:, 0], y)\n",
    "        return self\n",
    "    \n",
    "    def transform(self, X):\n",
    "        if X.shape[1] > 1:\n",
    "            print(f\"Внимание! X.shape = {X.shape} in CustomTfIdf.transform\")\n",
    "        return self.vect.transform(X.iloc[:, 0])\n",
    "\n",
    "\n",
    "class CustomFeatures(BaseEstimator, TransformerMixin):\n",
    "    def __init__(self):\n",
    "        pass\n",
    "    \n",
    "    def fit(self, X, y):\n",
    "        return self\n",
    "    \n",
    "    def transform(self, X):\n",
    "        last_quest_mark = X['Question'].apply(lambda s: s[-1] == '?')\n",
    "        first_capital = X['Question'].apply(lambda s: s[0].isupper())\n",
    "        return pd.DataFrame({'lastQuestMark': last_quest_mark, 'firstCapital': first_capital})\n",
    "\n",
    "\n",
    "def add_features_by_regexp(X, regexp, suffix):\n",
    "    X['len_mean_'+suffix] = X['Question'].apply(lambda test_str: 0 if len(re.findall(regexp, test_str))==0 else np.mean([len(s) for s in re.findall(regexp, test_str)]))\n",
    "    X['count_'+suffix] = X['Question'].apply(lambda test_str: len([len(s) for s in re.findall(regexp, test_str)]))\n",
    "    return X\n",
    "\n",
    "def add_independent_features(X, inplace=False):\n",
    "    if inplace:\n",
    "        X1 = X\n",
    "    else:\n",
    "        X1 = X.copy()\n",
    "    X1['lastQuestMark'] = X1['Question'].apply(lambda s: s[-1] == '?')\n",
    "    X1['firstCapital'] = X1['Question'].apply(lambda s: s[0].isupper())\n",
    "    X1['HasCapitalNe'] = X1['Question'].apply(lambda s: (re.search(r'\\bНЕ\\b', s) is not None) or \n",
    "                       (re.search(r'\\bНЕТ\\b', s) is not None))\n",
    "    X1['HasLowerNe'] = X1['Question'].apply(lambda s: (re.search(r'\\bне\\b', s) is not None) or \n",
    "                       (re.search(r'\\bнет\\b', s) is not None))\n",
    "    X1['HasTwoSpaces'] = X1['Question'].apply(lambda s: re.search(r'\\s\\s', s) is not None)\n",
    "    X1['HasSpaceBeforeDot'] = X1['Question'].apply(lambda s: re.search(r'\\s[,.;:!?]', s) is not None)\n",
    "    X1['HasStrangeStart'] = X1['Question'].apply(lambda s: re.search(r'^\\W', s) is not None)\n",
    "    \n",
    "    X1 = add_features_by_regexp(X1, r\"\\b[А-Я]+\\b\", 'ru_caps')\n",
    "    X1 = add_features_by_regexp(X1, r\"\\b[А-Яа-я]+\\b\", 'ru_all')\n",
    "    X1 = add_features_by_regexp(X1, r\"\\b[А-Я][а-я]*\\b\", 'ru_names')\n",
    "    X1 = add_features_by_regexp(X1, r\"\\b[A-Z]+\\b\", 'en_caps')\n",
    "    X1 = add_features_by_regexp(X1, r\"\\b[A-Za-z]+\\b\", 'en_all')\n",
    "    X1 = add_features_by_regexp(X1, r\"\\b[A-Z][a-z]*\\b\", 'en_names')\n",
    "    X1 = add_features_by_regexp(X1, r\"\\b[0-9]+\\b\", 'numbers')\n",
    "    \n",
    "    special_chars = ['«', '»', '-', '\"', '!', '—', ')', '(', '–', '+', '*', ':','\\\\', '/', '<', '>', '“', '”'\n",
    "                 \"'\", '’', '=', '…', '„', '\\xad', '\\xa0', '_', '|']\n",
    "    vect_spec_chars = TfidfVectorizer(analyzer='char', vocabulary=special_chars, use_idf=False, norm=False)\n",
    "    X_spec_chars = vect_spec_chars.fit_transform(X['Question'])\n",
    "    X_spec_chars = pd.DataFrame(X_spec_chars.toarray(), columns=special_chars, index=X.index)\n",
    "    X1 = X1.join(X_spec_chars, rsuffix='_special_chars')\n",
    "    \n",
    "    return X1"
   ],
   "metadata": {
    "collapsed": false,
    "pycharm": {
     "name": "#%%\n",
     "is_executing": false
    }
   }
  },
  {
   "cell_type": "code",
   "execution_count": 10,
   "outputs": [
    {
     "name": "stdout",
     "text": [
      "0.808559048882347\n",
      "{'clf__n_estimators': 50, 'preproc__tfidfPipe__tfidf__max_df': 0.6, 'preproc__tfidfPipe__tfidf__min_df': 1, 'preproc__tfidfPipe__tfidf__preprocessor': <function stem at 0x0000029F2D1B3AF8>}\n",
      "Wall time: 14min 48s\n"
     ],
     "output_type": "stream"
    }
   ],
   "source": [
    "%%time\n",
    "\n",
    "cv = StratifiedKFold(n_splits=10, shuffle=True, random_state=43)\n",
    "stemmer = SnowballStemmer(\"russian\") \n",
    "\n",
    "def stem(sentence):\n",
    "    words = nltk.word_tokenize(sentence, 'russian')\n",
    "    words = [stemmer.stem(word) for word in words]\n",
    "    return ' '.join(words)\n",
    "\n",
    "tfidf = CustomTfIdf()\n",
    "charTfidf = CustomTfIdf(analyzer='char', ngram_range=(2, 2))\n",
    "clf = LogisticRegression()\n",
    "clf = lgb.LGBMClassifier(n_estimators=50)\n",
    "\n",
    "tfidfPipe = Pipeline([('tfidf', tfidf)]) \n",
    "charTfidfPipe = Pipeline([('charTfidf', charTfidf)])\n",
    "preprocessor = ColumnTransformer(transformers=[('tfidfPipe', tfidfPipe, ['Question']),\n",
    "                                               ('charTfidfPipe', charTfidfPipe, ['Question'])], \n",
    "                                 remainder='passthrough')\n",
    "\n",
    "pipe = Pipeline([('preproc', preprocessor), ('clf', clf)])\n",
    "\n",
    "params = {'preproc__tfidfPipe__tfidf__min_df': [1, 0.01, 0.1], \n",
    "          'preproc__tfidfPipe__tfidf__max_df': [0.4, 0.6, 0.9], \n",
    "          'clf__n_estimators': [10, 50, 100], \n",
    "          'preproc__tfidfPipe__tfidf__preprocessor': [stem]}\n",
    "grid = GridSearchCV(pipe, params, scoring='roc_auc', cv=cv, n_jobs=-1)\n",
    "\n",
    "grid.fit(X=add_independent_features(X_train), y=y_train['Answer'])\n",
    "\n",
    "print(grid.best_score_)\n",
    "print(grid.best_params_)\n"
   ],
   "metadata": {
    "collapsed": false,
    "pycharm": {
     "name": "#%%\n",
     "is_executing": false
    }
   }
  },
  {
   "cell_type": "code",
   "execution_count": 11,
   "outputs": [],
   "source": [
    "stemmer = SnowballStemmer(\"russian\") \n",
    "\n",
    "def stem(sentence):\n",
    "    words = nltk.word_tokenize(sentence, 'russian')\n",
    "    words = [stemmer.stem(word) for word in words]\n",
    "    return ' '.join(words)\n",
    "\n",
    "tfidf = CustomTfIdf()\n",
    "clf = lgb.LGBMClassifier(n_estimators=50)\n",
    "\n",
    "tfidfPipe = Pipeline([('tfidf', tfidf)]) \n",
    "preprocessor = ColumnTransformer(transformers=[('tfidfPipe', tfidfPipe, ['Question'])], \n",
    "                                 remainder='passthrough')\n",
    "\n",
    "pipe = Pipeline([('preproc', preprocessor), ('clf', clf)])\n",
    "\n",
    "params = {'preproc__tfidfPipe__tfidf__min_df': 1, 'preproc__tfidfPipe__tfidf__max_df': 0.6, \n",
    "          'preproc__tfidfPipe__tfidf__preprocessor': stem}\n",
    "\n",
    "pipe.set_params(**params)\n",
    "\n",
    "pipe.fit(add_independent_features(X_train), y_train['Answer'])\n",
    "\n",
    "y_test = pipe.predict_proba(add_independent_features(X_test))"
   ],
   "metadata": {
    "collapsed": false,
    "pycharm": {
     "name": "#%%\n",
     "is_executing": false
    }
   }
  },
  {
   "cell_type": "code",
   "execution_count": 12,
   "outputs": [
    {
     "name": "stderr",
     "text": [
      "E:\\Programs\\Anaconda\\lib\\site-packages\\ipykernel_launcher.py:1: FutureWarning: The signature of `Series.to_csv` was aligned to that of `DataFrame.to_csv`, and argument 'header' will change its default value from False to True: please pass an explicit value to suppress this warning.\n",
      "  \"\"\"Entry point for launching an IPython kernel.\n"
     ],
     "output_type": "stream"
    }
   ],
   "source": [
    "pd.Series(y_test[:, 1], index=X_test.index).to_csv('submission.csv')\n",
    "\n",
    "\n"
   ],
   "metadata": {
    "collapsed": false,
    "pycharm": {
     "name": "#%%\n",
     "is_executing": false
    }
   }
  }
 ],
 "metadata": {
  "kernelspec": {
   "display_name": "Python 3",
   "language": "python",
   "name": "python3"
  },
  "language_info": {
   "codemirror_mode": {
    "name": "ipython",
    "version": 2
   },
   "file_extension": ".py",
   "mimetype": "text/x-python",
   "name": "python",
   "nbconvert_exporter": "python",
   "pygments_lexer": "ipython2",
   "version": "2.7.6"
  },
  "pycharm": {
   "stem_cell": {
    "cell_type": "raw",
    "source": [],
    "metadata": {
     "collapsed": false
    }
   }
  }
 },
 "nbformat": 4,
 "nbformat_minor": 0
}